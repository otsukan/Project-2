{
 "cells": [
  {
   "cell_type": "code",
   "execution_count": 7,
   "metadata": {},
   "outputs": [],
   "source": [
    "# importing necessary modules to complete project.\n",
    "from pymongo import MongoClient\n",
    "import pandas as pd\n",
    "import json"
   ]
  },
  {
   "cell_type": "code",
   "execution_count": 8,
   "metadata": {},
   "outputs": [],
   "source": [
    "def updateDB(csvfiles):\n",
    "   \n",
    "    # setting up a connection to a mongodb.\n",
    "    client = MongoClient('localhost', 27017)\n",
    "\n",
    "    # creating a new database.\n",
    "    mongo_db = client['economic_data_db']\n",
    "    \n",
    "    # creating a new collection within the new database.\n",
    "    collection = mongo_db['worldbank_data']\n",
    "\n",
    "    collection.remove()\n",
    "    \n",
    "    for csvfile in csvfiles:\n",
    "        \n",
    "        # reading in the csv file using pandas, skiping unnecessary rows, and naming columns by years.\n",
    "        worldbank_df = pd.read_csv(f'Resources/{csvfile}', skiprows=[0,4], names=[\"country_name\", \"country_abb\", \"data_type\", \"info\", \"1960\",\"1961\",\"1962\",\"1963\",\"1964\",\"1965\",\"1966\",\"1967\",\"1968\",\"1969\",\"1970\",\"1971\",\"1972\",\"1973\",\"1974\",\"1975\",\"1976\",\"1977\",\"1978\",\"1979\",\"1980\",\"1981\",\"1982\",\"1983\",\"1984\",\"1985\",\"1986\",\"1987\",\"1988\",\"1989\",\"1990\",\"1991\",\"1992\",\"1993\",\"1994\",\"1995\",\"1996\",\"1997\",\"1998\",\"1999\",\"2000\",\"2001\",\"2002\",\"2003\",\"2004\",\"2005\",\"2006\",\"2007\",\"2008\",\"2009\",\"2010\",\"2011\",\"2012\",\"2013\",\"2014\",\"2015\",\"2016\",\"2017\",\"2018\"])\n",
    "\n",
    "        # dropping first row that contains unnecessary information.\n",
    "        worldbank_df = worldbank_df.drop(worldbank_df.index[0])\n",
    "\n",
    "        # dropping unnecessary column.\n",
    "        worldbank_df = worldbank_df.drop(columns=['info', '1960'])\n",
    "\n",
    "        # setting the index of the dataframe to country name.\n",
    "        worldbank_df = worldbank_df.set_index('country_name')\n",
    "\n",
    "        # previewing the dataframe.\n",
    "        worldbank_df.head()\n",
    "\n",
    "        # making a dataframe of a select few countries.\n",
    "        worldbank_df = worldbank_df.loc[['United States', 'China', 'Korea, Rep.', 'Russian Federation', 'Brazil', 'Germany', 'India', 'Singapore', 'Japan', 'Kenya', 'Mexico', 'Panama', 'Australia', 'Netherlands', 'Norway', 'Finland', 'Sweden', 'Switzerland', 'France', 'Spain', 'United Kingdom', 'Indonesia', 'Argentina', 'South Africa', 'Colombia', 'Denmark', 'Iceland', 'United Arab Emirates', 'Saudi Arabia', 'Canada', 'Luxembourg']]\n",
    "\n",
    "        # previewing the results from above process.\n",
    "        worldbank_df \n",
    "\n",
    "        # reseting the index of the dataframe for purposes.\n",
    "        worldbank_df = worldbank_df.reset_index()\n",
    "\n",
    "        # turning above refined pandas dataframe into json format.\n",
    "        worldbank_data_json = json.loads(worldbank_df.to_json(orient='records'))\n",
    "\n",
    "        # previewing the new json dictionary of gdp data.\n",
    "        worldbank_data_json\n",
    "\n",
    "        # adding updated information to mongodatabase.\n",
    "        collection.insert_many(worldbank_data_json)"
   ]
  },
  {
   "cell_type": "code",
   "execution_count": 9,
   "metadata": {},
   "outputs": [
    {
     "name": "stderr",
     "output_type": "stream",
     "text": [
      "C:\\Users\\natha\\Anaconda3\\lib\\site-packages\\ipykernel_launcher.py:12: DeprecationWarning: remove is deprecated. Use delete_one or delete_many instead.\n",
      "  if sys.path[0] == '':\n"
     ]
    }
   ],
   "source": [
    "csvfiles = ['gdp_growth.csv', 'government_spending.csv', 'unemployment.csv', 'current_account.csv', 'foreign_investment.csv', 'government_debt.csv', 'capital_formation.csv', 'broadmoney_supply.csv', 'exports.csv', 'total_final_consumption.csv', 'consumer_spending_%gdp.csv', 'private_credit.csv', 'savings_rate.csv', 'income_share_lowest_20%.csv', 'foreign_investment_%gdp.csv', 'gdp_per_capita.csv']       \n",
    "updateDB(csvfiles)"
   ]
  },
  {
   "cell_type": "code",
   "execution_count": null,
   "metadata": {},
   "outputs": [],
   "source": []
  },
  {
   "cell_type": "code",
   "execution_count": null,
   "metadata": {},
   "outputs": [],
   "source": []
  }
 ],
 "metadata": {
  "kernelspec": {
   "display_name": "Python 3",
   "language": "python",
   "name": "python3"
  },
  "language_info": {
   "codemirror_mode": {
    "name": "ipython",
    "version": 3
   },
   "file_extension": ".py",
   "mimetype": "text/x-python",
   "name": "python",
   "nbconvert_exporter": "python",
   "pygments_lexer": "ipython3",
   "version": "3.7.3"
  }
 },
 "nbformat": 4,
 "nbformat_minor": 2
}
