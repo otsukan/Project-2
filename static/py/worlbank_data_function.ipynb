{
 "cells": [
  {
   "cell_type": "code",
   "execution_count": 1,
   "metadata": {},
   "outputs": [],
   "source": [
    "# importing necessary modules to complete project.\n",
    "from pymongo import MongoClient\n",
    "import pandas as pd\n",
    "import json"
   ]
  },
  {
   "cell_type": "code",
   "execution_count": 4,
   "metadata": {},
   "outputs": [],
   "source": [
    "def updateDB(csvfile, collection_name):\n",
    "     # setting up a connection to a mongodb.\n",
    "    client = MongoClient('localhost', 27017)\n",
    "\n",
    "    # creating a new database.\n",
    "    mongo_db = client['economic_data_db']\n",
    "\n",
    "    # creating a new collection within the new database.\n",
    "    collection = mongo_db[collection_name]\n",
    "\n",
    "    # reading in the csv file using pandas, skiping unnecessary rows, and naming columns by years.\n",
    "    gdp_df = pd.read_csv(csvfile, skiprows=[0,4], names=[\"country_name\", \"country_abb\", \"data_type\", \"info\", \"1960\",\"1961\",\"1962\",\"1963\",\"1964\",\"1965\",\"1966\",\"1967\",\"1968\",\"1969\",\"1970\",\"1971\",\"1972\",\"1973\",\"1974\",\"1975\",\"1976\",\"1977\",\"1978\",\"1979\",\"1980\",\"1981\",\"1982\",\"1983\",\"1984\",\"1985\",\"1986\",\"1987\",\"1988\",\"1989\",\"1990\",\"1991\",\"1992\",\"1993\",\"1994\",\"1995\",\"1996\",\"1997\",\"1998\",\"1999\",\"2000\",\"2001\",\"2002\",\"2003\",\"2004\",\"2005\",\"2006\",\"2007\",\"2008\",\"2009\",\"2010\",\"2011\",\"2012\",\"2013\",\"2014\",\"2015\",\"2016\",\"2017\",\"2018\"])\n",
    "\n",
    "    # dropping first row that contains unnecessary information.\n",
    "    gdp_df = gdp_df.drop(gdp_df.index[0])\n",
    "\n",
    "    # dropping unnecessary column.\n",
    "    gdp_df = gdp_df.drop(columns=['info', '1960'])\n",
    "\n",
    "    # setting the index of the dataframe to country name.\n",
    "    gdp_df = gdp_df.set_index('country_name')\n",
    "\n",
    "    # previewing the dataframe.\n",
    "    gdp_df.head()\n",
    "\n",
    "    # making a dataframe of a select few countries.\n",
    "    gdp_df = gdp_df.loc[['United States', 'China', 'Russian Federation', 'Brazil', 'Germany', 'India', 'Singapore', 'Japan', 'Kenya', 'Mexico', 'Panama', 'Australia', 'Netherlands', 'Norway', 'Finland', 'Sweden', 'Switzerland', 'France', 'Spain', 'United Kingdom', 'Indonesia', 'Argentina', 'South Africa', 'Colombia', 'Denmark', 'Iceland', 'United Arab Emirates', 'Saudi Arabia']]\n",
    "\n",
    "    # previewing the results from above process.\n",
    "    gdp_df\n",
    "\n",
    "    # reseting the index of the dataframe for purposes.\n",
    "    gdp_df = gdp_df.reset_index()\n",
    "\n",
    "    # turning above refined pandas dataframe into json format.\n",
    "    gdp_data_json = json.loads(gdp_df.to_json(orient='records'))\n",
    "\n",
    "    # previewing the new json dictionary of gdp data.\n",
    "    gdp_data_json\n",
    "\n",
    "    # clearing the mongodatabase.\n",
    "    collection.remove()\n",
    "\n",
    "    # adding updated information to mongodatabase.\n",
    "    collection.insert(gdp_data_json)"
   ]
  },
  {
   "cell_type": "code",
   "execution_count": 5,
   "metadata": {},
   "outputs": [
    {
     "ename": "FileNotFoundError",
     "evalue": "[Errno 2] File b'Resources/government_spending.csv' does not exist: b'Resources/government_spending.csv'",
     "output_type": "error",
     "traceback": [
      "\u001b[1;31m---------------------------------------------------------------------------\u001b[0m",
      "\u001b[1;31mFileNotFoundError\u001b[0m                         Traceback (most recent call last)",
      "\u001b[1;32m<ipython-input-5-37ecdd0d70e7>\u001b[0m in \u001b[0;36m<module>\u001b[1;34m\u001b[0m\n\u001b[1;32m----> 1\u001b[1;33m \u001b[0mupdateDB\u001b[0m\u001b[1;33m(\u001b[0m\u001b[1;34m'Resources/government_spending.csv'\u001b[0m\u001b[1;33m,\u001b[0m \u001b[1;34m'Goverment_Spending'\u001b[0m\u001b[1;33m)\u001b[0m\u001b[1;33m\u001b[0m\u001b[1;33m\u001b[0m\u001b[0m\n\u001b[0m",
      "\u001b[1;32m<ipython-input-4-6592ab9595e2>\u001b[0m in \u001b[0;36mupdateDB\u001b[1;34m(csvfile, collection_name)\u001b[0m\n\u001b[0;32m     10\u001b[0m \u001b[1;33m\u001b[0m\u001b[0m\n\u001b[0;32m     11\u001b[0m     \u001b[1;31m# reading in the csv file using pandas, skiping unnecessary rows, and naming columns by years.\u001b[0m\u001b[1;33m\u001b[0m\u001b[1;33m\u001b[0m\u001b[1;33m\u001b[0m\u001b[0m\n\u001b[1;32m---> 12\u001b[1;33m     \u001b[0mgdp_df\u001b[0m \u001b[1;33m=\u001b[0m \u001b[0mpd\u001b[0m\u001b[1;33m.\u001b[0m\u001b[0mread_csv\u001b[0m\u001b[1;33m(\u001b[0m\u001b[0mcsvfile\u001b[0m\u001b[1;33m,\u001b[0m \u001b[0mskiprows\u001b[0m\u001b[1;33m=\u001b[0m\u001b[1;33m[\u001b[0m\u001b[1;36m0\u001b[0m\u001b[1;33m,\u001b[0m\u001b[1;36m4\u001b[0m\u001b[1;33m]\u001b[0m\u001b[1;33m,\u001b[0m \u001b[0mnames\u001b[0m\u001b[1;33m=\u001b[0m\u001b[1;33m[\u001b[0m\u001b[1;34m\"country_name\"\u001b[0m\u001b[1;33m,\u001b[0m \u001b[1;34m\"country_abb\"\u001b[0m\u001b[1;33m,\u001b[0m \u001b[1;34m\"data_type\"\u001b[0m\u001b[1;33m,\u001b[0m \u001b[1;34m\"info\"\u001b[0m\u001b[1;33m,\u001b[0m \u001b[1;34m\"1960\"\u001b[0m\u001b[1;33m,\u001b[0m\u001b[1;34m\"1961\"\u001b[0m\u001b[1;33m,\u001b[0m\u001b[1;34m\"1962\"\u001b[0m\u001b[1;33m,\u001b[0m\u001b[1;34m\"1963\"\u001b[0m\u001b[1;33m,\u001b[0m\u001b[1;34m\"1964\"\u001b[0m\u001b[1;33m,\u001b[0m\u001b[1;34m\"1965\"\u001b[0m\u001b[1;33m,\u001b[0m\u001b[1;34m\"1966\"\u001b[0m\u001b[1;33m,\u001b[0m\u001b[1;34m\"1967\"\u001b[0m\u001b[1;33m,\u001b[0m\u001b[1;34m\"1968\"\u001b[0m\u001b[1;33m,\u001b[0m\u001b[1;34m\"1969\"\u001b[0m\u001b[1;33m,\u001b[0m\u001b[1;34m\"1970\"\u001b[0m\u001b[1;33m,\u001b[0m\u001b[1;34m\"1971\"\u001b[0m\u001b[1;33m,\u001b[0m\u001b[1;34m\"1972\"\u001b[0m\u001b[1;33m,\u001b[0m\u001b[1;34m\"1973\"\u001b[0m\u001b[1;33m,\u001b[0m\u001b[1;34m\"1974\"\u001b[0m\u001b[1;33m,\u001b[0m\u001b[1;34m\"1975\"\u001b[0m\u001b[1;33m,\u001b[0m\u001b[1;34m\"1976\"\u001b[0m\u001b[1;33m,\u001b[0m\u001b[1;34m\"1977\"\u001b[0m\u001b[1;33m,\u001b[0m\u001b[1;34m\"1978\"\u001b[0m\u001b[1;33m,\u001b[0m\u001b[1;34m\"1979\"\u001b[0m\u001b[1;33m,\u001b[0m\u001b[1;34m\"1980\"\u001b[0m\u001b[1;33m,\u001b[0m\u001b[1;34m\"1981\"\u001b[0m\u001b[1;33m,\u001b[0m\u001b[1;34m\"1982\"\u001b[0m\u001b[1;33m,\u001b[0m\u001b[1;34m\"1983\"\u001b[0m\u001b[1;33m,\u001b[0m\u001b[1;34m\"1984\"\u001b[0m\u001b[1;33m,\u001b[0m\u001b[1;34m\"1985\"\u001b[0m\u001b[1;33m,\u001b[0m\u001b[1;34m\"1986\"\u001b[0m\u001b[1;33m,\u001b[0m\u001b[1;34m\"1987\"\u001b[0m\u001b[1;33m,\u001b[0m\u001b[1;34m\"1988\"\u001b[0m\u001b[1;33m,\u001b[0m\u001b[1;34m\"1989\"\u001b[0m\u001b[1;33m,\u001b[0m\u001b[1;34m\"1990\"\u001b[0m\u001b[1;33m,\u001b[0m\u001b[1;34m\"1991\"\u001b[0m\u001b[1;33m,\u001b[0m\u001b[1;34m\"1992\"\u001b[0m\u001b[1;33m,\u001b[0m\u001b[1;34m\"1993\"\u001b[0m\u001b[1;33m,\u001b[0m\u001b[1;34m\"1994\"\u001b[0m\u001b[1;33m,\u001b[0m\u001b[1;34m\"1995\"\u001b[0m\u001b[1;33m,\u001b[0m\u001b[1;34m\"1996\"\u001b[0m\u001b[1;33m,\u001b[0m\u001b[1;34m\"1997\"\u001b[0m\u001b[1;33m,\u001b[0m\u001b[1;34m\"1998\"\u001b[0m\u001b[1;33m,\u001b[0m\u001b[1;34m\"1999\"\u001b[0m\u001b[1;33m,\u001b[0m\u001b[1;34m\"2000\"\u001b[0m\u001b[1;33m,\u001b[0m\u001b[1;34m\"2001\"\u001b[0m\u001b[1;33m,\u001b[0m\u001b[1;34m\"2002\"\u001b[0m\u001b[1;33m,\u001b[0m\u001b[1;34m\"2003\"\u001b[0m\u001b[1;33m,\u001b[0m\u001b[1;34m\"2004\"\u001b[0m\u001b[1;33m,\u001b[0m\u001b[1;34m\"2005\"\u001b[0m\u001b[1;33m,\u001b[0m\u001b[1;34m\"2006\"\u001b[0m\u001b[1;33m,\u001b[0m\u001b[1;34m\"2007\"\u001b[0m\u001b[1;33m,\u001b[0m\u001b[1;34m\"2008\"\u001b[0m\u001b[1;33m,\u001b[0m\u001b[1;34m\"2009\"\u001b[0m\u001b[1;33m,\u001b[0m\u001b[1;34m\"2010\"\u001b[0m\u001b[1;33m,\u001b[0m\u001b[1;34m\"2011\"\u001b[0m\u001b[1;33m,\u001b[0m\u001b[1;34m\"2012\"\u001b[0m\u001b[1;33m,\u001b[0m\u001b[1;34m\"2013\"\u001b[0m\u001b[1;33m,\u001b[0m\u001b[1;34m\"2014\"\u001b[0m\u001b[1;33m,\u001b[0m\u001b[1;34m\"2015\"\u001b[0m\u001b[1;33m,\u001b[0m\u001b[1;34m\"2016\"\u001b[0m\u001b[1;33m,\u001b[0m\u001b[1;34m\"2017\"\u001b[0m\u001b[1;33m,\u001b[0m\u001b[1;34m\"2018\"\u001b[0m\u001b[1;33m]\u001b[0m\u001b[1;33m)\u001b[0m\u001b[1;33m\u001b[0m\u001b[1;33m\u001b[0m\u001b[0m\n\u001b[0m\u001b[0;32m     13\u001b[0m \u001b[1;33m\u001b[0m\u001b[0m\n\u001b[0;32m     14\u001b[0m     \u001b[1;31m# dropping first row that contains unnecessary information.\u001b[0m\u001b[1;33m\u001b[0m\u001b[1;33m\u001b[0m\u001b[1;33m\u001b[0m\u001b[0m\n",
      "\u001b[1;32m~\\Anaconda3\\lib\\site-packages\\pandas\\io\\parsers.py\u001b[0m in \u001b[0;36mparser_f\u001b[1;34m(filepath_or_buffer, sep, delimiter, header, names, index_col, usecols, squeeze, prefix, mangle_dupe_cols, dtype, engine, converters, true_values, false_values, skipinitialspace, skiprows, skipfooter, nrows, na_values, keep_default_na, na_filter, verbose, skip_blank_lines, parse_dates, infer_datetime_format, keep_date_col, date_parser, dayfirst, iterator, chunksize, compression, thousands, decimal, lineterminator, quotechar, quoting, doublequote, escapechar, comment, encoding, dialect, tupleize_cols, error_bad_lines, warn_bad_lines, delim_whitespace, low_memory, memory_map, float_precision)\u001b[0m\n\u001b[0;32m    700\u001b[0m                     skip_blank_lines=skip_blank_lines)\n\u001b[0;32m    701\u001b[0m \u001b[1;33m\u001b[0m\u001b[0m\n\u001b[1;32m--> 702\u001b[1;33m         \u001b[1;32mreturn\u001b[0m \u001b[0m_read\u001b[0m\u001b[1;33m(\u001b[0m\u001b[0mfilepath_or_buffer\u001b[0m\u001b[1;33m,\u001b[0m \u001b[0mkwds\u001b[0m\u001b[1;33m)\u001b[0m\u001b[1;33m\u001b[0m\u001b[1;33m\u001b[0m\u001b[0m\n\u001b[0m\u001b[0;32m    703\u001b[0m \u001b[1;33m\u001b[0m\u001b[0m\n\u001b[0;32m    704\u001b[0m     \u001b[0mparser_f\u001b[0m\u001b[1;33m.\u001b[0m\u001b[0m__name__\u001b[0m \u001b[1;33m=\u001b[0m \u001b[0mname\u001b[0m\u001b[1;33m\u001b[0m\u001b[1;33m\u001b[0m\u001b[0m\n",
      "\u001b[1;32m~\\Anaconda3\\lib\\site-packages\\pandas\\io\\parsers.py\u001b[0m in \u001b[0;36m_read\u001b[1;34m(filepath_or_buffer, kwds)\u001b[0m\n\u001b[0;32m    427\u001b[0m \u001b[1;33m\u001b[0m\u001b[0m\n\u001b[0;32m    428\u001b[0m     \u001b[1;31m# Create the parser.\u001b[0m\u001b[1;33m\u001b[0m\u001b[1;33m\u001b[0m\u001b[1;33m\u001b[0m\u001b[0m\n\u001b[1;32m--> 429\u001b[1;33m     \u001b[0mparser\u001b[0m \u001b[1;33m=\u001b[0m \u001b[0mTextFileReader\u001b[0m\u001b[1;33m(\u001b[0m\u001b[0mfilepath_or_buffer\u001b[0m\u001b[1;33m,\u001b[0m \u001b[1;33m**\u001b[0m\u001b[0mkwds\u001b[0m\u001b[1;33m)\u001b[0m\u001b[1;33m\u001b[0m\u001b[1;33m\u001b[0m\u001b[0m\n\u001b[0m\u001b[0;32m    430\u001b[0m \u001b[1;33m\u001b[0m\u001b[0m\n\u001b[0;32m    431\u001b[0m     \u001b[1;32mif\u001b[0m \u001b[0mchunksize\u001b[0m \u001b[1;32mor\u001b[0m \u001b[0miterator\u001b[0m\u001b[1;33m:\u001b[0m\u001b[1;33m\u001b[0m\u001b[1;33m\u001b[0m\u001b[0m\n",
      "\u001b[1;32m~\\Anaconda3\\lib\\site-packages\\pandas\\io\\parsers.py\u001b[0m in \u001b[0;36m__init__\u001b[1;34m(self, f, engine, **kwds)\u001b[0m\n\u001b[0;32m    893\u001b[0m             \u001b[0mself\u001b[0m\u001b[1;33m.\u001b[0m\u001b[0moptions\u001b[0m\u001b[1;33m[\u001b[0m\u001b[1;34m'has_index_names'\u001b[0m\u001b[1;33m]\u001b[0m \u001b[1;33m=\u001b[0m \u001b[0mkwds\u001b[0m\u001b[1;33m[\u001b[0m\u001b[1;34m'has_index_names'\u001b[0m\u001b[1;33m]\u001b[0m\u001b[1;33m\u001b[0m\u001b[1;33m\u001b[0m\u001b[0m\n\u001b[0;32m    894\u001b[0m \u001b[1;33m\u001b[0m\u001b[0m\n\u001b[1;32m--> 895\u001b[1;33m         \u001b[0mself\u001b[0m\u001b[1;33m.\u001b[0m\u001b[0m_make_engine\u001b[0m\u001b[1;33m(\u001b[0m\u001b[0mself\u001b[0m\u001b[1;33m.\u001b[0m\u001b[0mengine\u001b[0m\u001b[1;33m)\u001b[0m\u001b[1;33m\u001b[0m\u001b[1;33m\u001b[0m\u001b[0m\n\u001b[0m\u001b[0;32m    896\u001b[0m \u001b[1;33m\u001b[0m\u001b[0m\n\u001b[0;32m    897\u001b[0m     \u001b[1;32mdef\u001b[0m \u001b[0mclose\u001b[0m\u001b[1;33m(\u001b[0m\u001b[0mself\u001b[0m\u001b[1;33m)\u001b[0m\u001b[1;33m:\u001b[0m\u001b[1;33m\u001b[0m\u001b[1;33m\u001b[0m\u001b[0m\n",
      "\u001b[1;32m~\\Anaconda3\\lib\\site-packages\\pandas\\io\\parsers.py\u001b[0m in \u001b[0;36m_make_engine\u001b[1;34m(self, engine)\u001b[0m\n\u001b[0;32m   1120\u001b[0m     \u001b[1;32mdef\u001b[0m \u001b[0m_make_engine\u001b[0m\u001b[1;33m(\u001b[0m\u001b[0mself\u001b[0m\u001b[1;33m,\u001b[0m \u001b[0mengine\u001b[0m\u001b[1;33m=\u001b[0m\u001b[1;34m'c'\u001b[0m\u001b[1;33m)\u001b[0m\u001b[1;33m:\u001b[0m\u001b[1;33m\u001b[0m\u001b[1;33m\u001b[0m\u001b[0m\n\u001b[0;32m   1121\u001b[0m         \u001b[1;32mif\u001b[0m \u001b[0mengine\u001b[0m \u001b[1;33m==\u001b[0m \u001b[1;34m'c'\u001b[0m\u001b[1;33m:\u001b[0m\u001b[1;33m\u001b[0m\u001b[1;33m\u001b[0m\u001b[0m\n\u001b[1;32m-> 1122\u001b[1;33m             \u001b[0mself\u001b[0m\u001b[1;33m.\u001b[0m\u001b[0m_engine\u001b[0m \u001b[1;33m=\u001b[0m \u001b[0mCParserWrapper\u001b[0m\u001b[1;33m(\u001b[0m\u001b[0mself\u001b[0m\u001b[1;33m.\u001b[0m\u001b[0mf\u001b[0m\u001b[1;33m,\u001b[0m \u001b[1;33m**\u001b[0m\u001b[0mself\u001b[0m\u001b[1;33m.\u001b[0m\u001b[0moptions\u001b[0m\u001b[1;33m)\u001b[0m\u001b[1;33m\u001b[0m\u001b[1;33m\u001b[0m\u001b[0m\n\u001b[0m\u001b[0;32m   1123\u001b[0m         \u001b[1;32melse\u001b[0m\u001b[1;33m:\u001b[0m\u001b[1;33m\u001b[0m\u001b[1;33m\u001b[0m\u001b[0m\n\u001b[0;32m   1124\u001b[0m             \u001b[1;32mif\u001b[0m \u001b[0mengine\u001b[0m \u001b[1;33m==\u001b[0m \u001b[1;34m'python'\u001b[0m\u001b[1;33m:\u001b[0m\u001b[1;33m\u001b[0m\u001b[1;33m\u001b[0m\u001b[0m\n",
      "\u001b[1;32m~\\Anaconda3\\lib\\site-packages\\pandas\\io\\parsers.py\u001b[0m in \u001b[0;36m__init__\u001b[1;34m(self, src, **kwds)\u001b[0m\n\u001b[0;32m   1851\u001b[0m         \u001b[0mkwds\u001b[0m\u001b[1;33m[\u001b[0m\u001b[1;34m'usecols'\u001b[0m\u001b[1;33m]\u001b[0m \u001b[1;33m=\u001b[0m \u001b[0mself\u001b[0m\u001b[1;33m.\u001b[0m\u001b[0musecols\u001b[0m\u001b[1;33m\u001b[0m\u001b[1;33m\u001b[0m\u001b[0m\n\u001b[0;32m   1852\u001b[0m \u001b[1;33m\u001b[0m\u001b[0m\n\u001b[1;32m-> 1853\u001b[1;33m         \u001b[0mself\u001b[0m\u001b[1;33m.\u001b[0m\u001b[0m_reader\u001b[0m \u001b[1;33m=\u001b[0m \u001b[0mparsers\u001b[0m\u001b[1;33m.\u001b[0m\u001b[0mTextReader\u001b[0m\u001b[1;33m(\u001b[0m\u001b[0msrc\u001b[0m\u001b[1;33m,\u001b[0m \u001b[1;33m**\u001b[0m\u001b[0mkwds\u001b[0m\u001b[1;33m)\u001b[0m\u001b[1;33m\u001b[0m\u001b[1;33m\u001b[0m\u001b[0m\n\u001b[0m\u001b[0;32m   1854\u001b[0m         \u001b[0mself\u001b[0m\u001b[1;33m.\u001b[0m\u001b[0munnamed_cols\u001b[0m \u001b[1;33m=\u001b[0m \u001b[0mself\u001b[0m\u001b[1;33m.\u001b[0m\u001b[0m_reader\u001b[0m\u001b[1;33m.\u001b[0m\u001b[0munnamed_cols\u001b[0m\u001b[1;33m\u001b[0m\u001b[1;33m\u001b[0m\u001b[0m\n\u001b[0;32m   1855\u001b[0m \u001b[1;33m\u001b[0m\u001b[0m\n",
      "\u001b[1;32mpandas/_libs/parsers.pyx\u001b[0m in \u001b[0;36mpandas._libs.parsers.TextReader.__cinit__\u001b[1;34m()\u001b[0m\n",
      "\u001b[1;32mpandas/_libs/parsers.pyx\u001b[0m in \u001b[0;36mpandas._libs.parsers.TextReader._setup_parser_source\u001b[1;34m()\u001b[0m\n",
      "\u001b[1;31mFileNotFoundError\u001b[0m: [Errno 2] File b'Resources/government_spending.csv' does not exist: b'Resources/government_spending.csv'"
     ]
    }
   ],
   "source": [
    "updateDB('Resources/government_spending.csv', 'Goverment_Spending')"
   ]
  },
  {
   "cell_type": "code",
   "execution_count": 2,
   "metadata": {},
   "outputs": [],
   "source": [
    "def hello():\n",
    "    print('Hello')"
   ]
  },
  {
   "cell_type": "code",
   "execution_count": 3,
   "metadata": {},
   "outputs": [
    {
     "name": "stdout",
     "output_type": "stream",
     "text": [
      "Hello\n"
     ]
    }
   ],
   "source": [
    "hello()"
   ]
  },
  {
   "cell_type": "code",
   "execution_count": null,
   "metadata": {},
   "outputs": [],
   "source": []
  }
 ],
 "metadata": {
  "kernelspec": {
   "display_name": "Python 3",
   "language": "python",
   "name": "python3"
  },
  "language_info": {
   "codemirror_mode": {
    "name": "ipython",
    "version": 3
   },
   "file_extension": ".py",
   "mimetype": "text/x-python",
   "name": "python",
   "nbconvert_exporter": "python",
   "pygments_lexer": "ipython3",
   "version": "3.7.3"
  }
 },
 "nbformat": 4,
 "nbformat_minor": 2
}
